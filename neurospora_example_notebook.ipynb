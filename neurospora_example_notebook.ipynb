{
 "cells": [
  {
   "cell_type": "markdown",
   "metadata": {},
   "source": [
    "# Example of using BDE for Circadian model\n",
    "\n",
    "In this example we build a Boolean Delay Equation of a Circadian model and show \n",
    "how it matches with experiment data.\n",
    "\n",
    "First we need a few imports:"
   ]
  },
  {
   "cell_type": "code",
   "execution_count": null,
   "metadata": {},
   "outputs": [],
   "source": [
    "from pybde import BDESolver\n",
    "from pybde import BooleanTimeSeries\n",
    "from numpy import genfromtxt\n",
    "import matplotlib.pyplot as plt"
   ]
  },
  {
   "cell_type": "markdown",
   "metadata": {},
   "source": [
    "Now we need to obtain out experiment data"
   ]
  },
  {
   "cell_type": "code",
   "execution_count": null,
   "metadata": {},
   "outputs": [],
   "source": [
    "experiment_data = genfromtxt(\n",
    "    'https://raw.githubusercontent.com/EPCCed/pybde-examples/master/neurospora_data.csv', \n",
    "    delimiter=',')"
   ]
  },
  {
   "cell_type": "markdown",
   "metadata": {},
   "source": [
    "This data has expression levels of m and ft in the first two columns and time in the third column. The following shows the first three rows of data."
   ]
  },
  {
   "cell_type": "code",
   "execution_count": null,
   "metadata": {},
   "outputs": [],
   "source": [
    "experiment_data[0:3,:]"
   ]
  },
  {
   "cell_type": "markdown",
   "metadata": {},
   "source": [
    "We can plot this data to see what it looks like"
   ]
  },
  {
   "cell_type": "code",
   "execution_count": null,
   "metadata": {},
   "outputs": [],
   "source": [
    "plt.plot(experiment_data[:,2], experiment_data[:,0], 'b-', label=\"m\", )\n",
    "plt.plot(experiment_data[:,2], experiment_data[:,1], 'r-', label=\"ft\")\n",
    "plt.legend()\n",
    "plt.xlabel(\"time (hours)\")\n",
    "plt.ylabel(\"Expression levels (AU)\")\n",
    "plt.title(\"Experiment data\")\n",
    "plt.show()"
   ]
  },
  {
   "cell_type": "markdown",
   "metadata": {},
   "source": [
    "To use this data in a Boolean Delay Equation we need to convert it into Boolean data.  We use the BooleanTimeSeries class to store Boolean time series data. We can create Boolean time series data from this experiment data by applying relative or absolute thresholding.\n",
    "\n",
    "Relative thresholding thresholds the relative to the range of the values in the data.  A threshold of 0.5 will correspond to a threshold value midway between the minimum and maximum value.\n",
    "\n",
    "Here we choose a relative thresholdhold values of 0.3."
   ]
  },
  {
   "cell_type": "code",
   "execution_count": null,
   "metadata": {},
   "outputs": [],
   "source": [
    "m_bts = \\\n",
    "    BooleanTimeSeries.relative_threshold(experiment_data[:,2], experiment_data[:,0], 0.3)\n",
    "ft_bts = \\\n",
    "    BooleanTimeSeries.relative_threshold(experiment_data[:,2], experiment_data[:,1], 0.3)"
   ]
  },
  {
   "cell_type": "markdown",
   "metadata": {},
   "source": [
    "We can now plot this Boolean data:"
   ]
  },
  {
   "cell_type": "code",
   "execution_count": null,
   "metadata": {},
   "outputs": [],
   "source": [
    "# Add labels and plot styles to the switch points objects\n",
    "ft_bts.label = \"ft\"\n",
    "m_bts.label = \"m\"\n",
    "ft_bts.style = \"r-\"\n",
    "m_bts.style = \"b-\"\n",
    "\n",
    "# Plot multiple switch point lines in the same plot\n",
    "BooleanTimeSeries.plot_many([m_bts, ft_bts])\n",
    "plt.xlabel(\"Time (hours)\")\n",
    "plt.show()"
   ]
  },
  {
   "cell_type": "markdown",
   "metadata": {},
   "source": [
    "We can plot this over the original data to easier see how it matches.  Note that we rescale the Boolean data purely for display purposes they approximately match the same scale as the experiment data. Remember that the Boolean data only has states True (1) and False (0)."
   ]
  },
  {
   "cell_type": "code",
   "execution_count": null,
   "metadata": {},
   "outputs": [],
   "source": [
    "plt.plot(experiment_data[:,2], experiment_data[:,0], 'b-', label=\"m\", )\n",
    "m_bts.plot(scale=150)\n",
    "plt.xlabel(\"time (hours)\")\n",
    "plt.ylabel(\"Expression levels (AU)\")\n",
    "plt.title(\"m\")\n",
    "plt.show()\n",
    "\n",
    "\n",
    "plt.plot(experiment_data[:,2], experiment_data[:,1], 'r-', label=\"ft\")\n",
    "ft_bts.plot(scale=300)\n",
    "plt.xlabel(\"time (hours)\")\n",
    "plt.ylabel(\"Expression levels (AU)\")\n",
    "plt.title(\"ft\")\n",
    "plt.show()"
   ]
  },
  {
   "cell_type": "markdown",
   "metadata": {},
   "source": [
    "We wish to use the first 24 hours' worth of data as history for our simulation. So we can cut this data to extract the first 24 hours:"
   ]
  },
  {
   "cell_type": "code",
   "execution_count": null,
   "metadata": {},
   "outputs": [],
   "source": [
    "hist_ft = ft_bts.cut(0, 24)\n",
    "hist_m = m_bts.cut(0, 24)\n",
    "\n",
    "# Plot multiple switch point lines in the same plot\n",
    "BooleanTimeSeries.plot_many([hist_m, hist_ft])\n",
    "plt.xlabel(\"Time (hours)\")\n",
    "plt.legend()\n",
    "plt.show()"
   ]
  },
  {
   "cell_type": "markdown",
   "metadata": {},
   "source": [
    "The Circadian model uses light as an input so we need to prepare the light input:"
   ]
  },
  {
   "cell_type": "code",
   "execution_count": null,
   "metadata": {},
   "outputs": [],
   "source": [
    "light_t = [0] + list(range(6,120,12))\n",
    "light_y = []\n",
    "for t in light_t:\n",
    "    light_y.append(6 <= t % 24 < 18)\n",
    "light_bts = BooleanTimeSeries(light_t, light_y, 118)\n",
    "light_bts.label = \"light\"\n",
    "light_bts.style = \"-g\"\n",
    "\n",
    "light_bts.plot()\n",
    "plt.show()"
   ]
  },
  {
   "cell_type": "markdown",
   "metadata": {},
   "source": [
    "So the inputs to our simulation are can be plotted on one graph."
   ]
  },
  {
   "cell_type": "code",
   "execution_count": null,
   "metadata": {},
   "outputs": [],
   "source": [
    "BooleanTimeSeries.plot_many([hist_m, hist_ft, light_bts])\n",
    "plt.show()"
   ]
  },
  {
   "cell_type": "markdown",
   "metadata": {},
   "source": [
    "Now we have to define our Boolean Delay Equation model.  The model has two simulated states (ft and m) and one input state (light). The model has three delays."
   ]
  },
  {
   "cell_type": "code",
   "execution_count": null,
   "metadata": {},
   "outputs": [],
   "source": [
    "def neurospora_eqns(z, forced_inputs):\n",
    "    m = 0\n",
    "    ft = 1\n",
    "    light = 0\n",
    "    tau1 = 0\n",
    "    tau2 = 1\n",
    "    tau3 = 2\n",
    "\n",
    "    return [ (not z[tau2][ft]) or forced_inputs[tau3][light], z[tau1][m] ]"
   ]
  },
  {
   "cell_type": "markdown",
   "metadata": {},
   "source": [
    "For given values of the delays (determined by parameter fitting algorithms) we can run the simulation for 118 hours:"
   ]
  },
  {
   "cell_type": "code",
   "execution_count": null,
   "metadata": {},
   "outputs": [],
   "source": [
    "tau1 = 5.0752\n",
    "tau2 = 6.0211\n",
    "tau3 = 14.5586\n",
    "delays = [tau1, tau2, tau3]\n",
    "\n",
    "solver = BDESolver(neurospora_eqns, delays, [hist_m, hist_ft], [light_bts])\n",
    "[m_output, ft_output] = solver.solve(118)"
   ]
  },
  {
   "cell_type": "markdown",
   "metadata": {},
   "source": [
    "We can now plot the output of the simulation:"
   ]
  },
  {
   "cell_type": "code",
   "execution_count": null,
   "metadata": {},
   "outputs": [],
   "source": [
    "plt.title(\"Simulation output\")\n",
    "BooleanTimeSeries.plot_many([m_output , ft_output, light_bts])\n",
    "plt.xlabel(\"Time (hours)\")\n",
    "plt.legend()\n",
    "plt.show()"
   ]
  },
  {
   "cell_type": "markdown",
   "metadata": {},
   "source": [
    "Plotting these outputs over the original experiment data:"
   ]
  },
  {
   "cell_type": "code",
   "execution_count": null,
   "metadata": {},
   "outputs": [],
   "source": [
    "plt.plot(experiment_data[:,2], experiment_data[:,0], 'b-', label=\"m\", )\n",
    "m_output.plot(scale=150)\n",
    "plt.xlabel(\"time (hours)\")\n",
    "plt.ylabel(\"Expression levels (AU)\")\n",
    "plt.title(\"m\")\n",
    "plt.show()\n",
    "\n",
    "\n",
    "plt.plot(experiment_data[:,2], experiment_data[:,1], 'r-', label=\"ft\")\n",
    "ft_output.plot(scale=300)\n",
    "plt.xlabel(\"time (hours)\")\n",
    "plt.ylabel(\"Expression levels (AU)\")\n",
    "plt.title(\"ft\")\n",
    "plt.show()"
   ]
  },
  {
   "cell_type": "markdown",
   "metadata": {},
   "source": [
    "Plotting the simulated data alongside the thresholded data gives:"
   ]
  },
  {
   "cell_type": "code",
   "execution_count": null,
   "metadata": {},
   "outputs": [],
   "source": [
    "m_output.label = \"m sim\"\n",
    "m_output.style = 'c-'\n",
    "BooleanTimeSeries.plot_many([m_bts, m_output])\n",
    "plt.xlabel(\"time (hours)\")\n",
    "plt.title(\"m\")\n",
    "plt.legend()\n",
    "plt.show()\n",
    "\n",
    "ft_output.label = \"ft sim\"\n",
    "ft_output.style = 'c-'\n",
    "BooleanTimeSeries.plot_many([ft_bts, ft_output])\n",
    "plt.xlabel(\"time (hours)\")\n",
    "plt.title(\"ft\")\n",
    "plt.legend()\n",
    "plt.show()"
   ]
  },
  {
   "cell_type": "markdown",
   "metadata": {},
   "source": [
    "We can calculate the Hamming distance which gives a measure of what duration of time two Boolean time series have differing signals. For 96 hours of simulated time the Hamming distance measures are low:"
   ]
  },
  {
   "cell_type": "code",
   "execution_count": null,
   "metadata": {},
   "outputs": [],
   "source": [
    "print(\"Hamming of m : {:.4f}\".format(m_bts.hamming_distance(m_output)))\n",
    "print(\"Hamming of ft : {:.4f}\".format(ft_bts.hamming_distance(ft_output)))\n",
    "\n",
    "print(\"Hamming of m as %age of simulated time: {:.2f}%\".format(\n",
    "    m_bts.hamming_distance(m_output)/0.96))\n",
    "print(\"Hamming of ft as %age of simulated time : {:.2f}%\".format(\n",
    "    ft_bts.hamming_distance(ft_output)/0.96))\n"
   ]
  }
 ],
 "metadata": {
  "kernelspec": {
   "display_name": "Python 3",
   "language": "python",
   "name": "python3"
  },
  "language_info": {
   "codemirror_mode": {
    "name": "ipython",
    "version": 3
   },
   "file_extension": ".py",
   "mimetype": "text/x-python",
   "name": "python",
   "nbconvert_exporter": "python",
   "pygments_lexer": "ipython3",
   "version": "3.7.3"
  }
 },
 "nbformat": 4,
 "nbformat_minor": 2
}
